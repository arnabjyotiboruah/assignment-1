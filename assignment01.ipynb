{
 "cells": [
  {
   "cell_type": "markdown",
   "metadata": {},
   "source": [
    "# import librabries"
   ]
  },
  {
   "cell_type": "code",
   "execution_count": 2,
   "metadata": {},
   "outputs": [],
   "source": [
    "import numpy as np\n",
    "import pandas as pd\n",
    "import matplotlib.pyplot as plt\n",
    "import matplotlib.image as mpimg\n",
    "import os\n",
    "from random import sample\n",
    "import shutil\n",
    "import warnings\n",
    "\n",
    "warnings.filterwarnings(\"ignore\") ##Ignore all sort of warnings"
   ]
  },
  {
   "cell_type": "markdown",
   "metadata": {},
   "source": [
    "# 1 The dataset given for this problem consists of data extracted from satellite images. The number of features is 36."
   ]
  },
  {
   "cell_type": "code",
   "execution_count": 3,
   "metadata": {},
   "outputs": [
    {
     "data": {
      "text/html": [
       "<div>\n",
       "<style scoped>\n",
       "    .dataframe tbody tr th:only-of-type {\n",
       "        vertical-align: middle;\n",
       "    }\n",
       "\n",
       "    .dataframe tbody tr th {\n",
       "        vertical-align: top;\n",
       "    }\n",
       "\n",
       "    .dataframe thead th {\n",
       "        text-align: right;\n",
       "    }\n",
       "</style>\n",
       "<table border=\"1\" class=\"dataframe\">\n",
       "  <thead>\n",
       "    <tr style=\"text-align: right;\">\n",
       "      <th></th>\n",
       "      <th>-3.125000000000000000e-02</th>\n",
       "      <th>2.363639999999999908e-01</th>\n",
       "      <th>2.380950000000000011e-01</th>\n",
       "      <th>-9.090910000000000657e-02</th>\n",
       "      <th>0.000000000000000000e+00</th>\n",
       "      <th>3.818179999999999907e-01</th>\n",
       "      <th>3.263159999999999950e-01</th>\n",
       "      <th>-1.562500000000000000e-02</th>\n",
       "      <th>-1.250000000000000000e-01</th>\n",
       "      <th>5.533979999999999455e-01</th>\n",
       "      <th>...</th>\n",
       "      <th>5.769229999999999636e-01</th>\n",
       "      <th>4.712640000000000162e-01</th>\n",
       "      <th>-3.333330000000000320e-02</th>\n",
       "      <th>-4.615380000000000177e-02</th>\n",
       "      <th>5.247519999999999962e-01</th>\n",
       "      <th>4.105260000000000020e-01</th>\n",
       "      <th>-1.562500000000000000e-02.2</th>\n",
       "      <th>-1.875000000000000000e-01.1</th>\n",
       "      <th>4.951459999999999750e-01</th>\n",
       "      <th>5.157890000000000530e-01</th>\n",
       "    </tr>\n",
       "  </thead>\n",
       "  <tbody>\n",
       "    <tr>\n",
       "      <th>0</th>\n",
       "      <td>-0.031250</td>\n",
       "      <td>0.309091</td>\n",
       "      <td>0.380952</td>\n",
       "      <td>0.074380</td>\n",
       "      <td>0.129032</td>\n",
       "      <td>0.472727</td>\n",
       "      <td>0.557895</td>\n",
       "      <td>0.078125</td>\n",
       "      <td>-0.031250</td>\n",
       "      <td>0.398058</td>\n",
       "      <td>...</td>\n",
       "      <td>0.519231</td>\n",
       "      <td>0.425287</td>\n",
       "      <td>0.000000</td>\n",
       "      <td>0.138462</td>\n",
       "      <td>0.663366</td>\n",
       "      <td>0.368421</td>\n",
       "      <td>0.015625</td>\n",
       "      <td>0.125000</td>\n",
       "      <td>0.533981</td>\n",
       "      <td>0.368421</td>\n",
       "    </tr>\n",
       "    <tr>\n",
       "      <th>1</th>\n",
       "      <td>-0.031250</td>\n",
       "      <td>0.381818</td>\n",
       "      <td>0.261905</td>\n",
       "      <td>-0.107438</td>\n",
       "      <td>0.000000</td>\n",
       "      <td>0.527273</td>\n",
       "      <td>0.326316</td>\n",
       "      <td>0.046875</td>\n",
       "      <td>-0.031250</td>\n",
       "      <td>0.631068</td>\n",
       "      <td>...</td>\n",
       "      <td>0.384615</td>\n",
       "      <td>0.103448</td>\n",
       "      <td>-0.250000</td>\n",
       "      <td>-0.138462</td>\n",
       "      <td>0.425743</td>\n",
       "      <td>0.263158</td>\n",
       "      <td>-0.109375</td>\n",
       "      <td>-0.031250</td>\n",
       "      <td>0.650485</td>\n",
       "      <td>0.452632</td>\n",
       "    </tr>\n",
       "    <tr>\n",
       "      <th>2</th>\n",
       "      <td>-0.031250</td>\n",
       "      <td>0.381818</td>\n",
       "      <td>0.285714</td>\n",
       "      <td>-0.123967</td>\n",
       "      <td>-0.129032</td>\n",
       "      <td>0.309091</td>\n",
       "      <td>0.073684</td>\n",
       "      <td>-0.156250</td>\n",
       "      <td>0.093750</td>\n",
       "      <td>0.398058</td>\n",
       "      <td>...</td>\n",
       "      <td>0.519231</td>\n",
       "      <td>0.425287</td>\n",
       "      <td>-0.050000</td>\n",
       "      <td>-0.107692</td>\n",
       "      <td>0.485149</td>\n",
       "      <td>0.368421</td>\n",
       "      <td>-0.031250</td>\n",
       "      <td>-0.250000</td>\n",
       "      <td>0.203883</td>\n",
       "      <td>0.094737</td>\n",
       "    </tr>\n",
       "    <tr>\n",
       "      <th>3</th>\n",
       "      <td>-0.031250</td>\n",
       "      <td>0.381818</td>\n",
       "      <td>0.357143</td>\n",
       "      <td>-0.024793</td>\n",
       "      <td>-0.096774</td>\n",
       "      <td>0.454545</td>\n",
       "      <td>0.431579</td>\n",
       "      <td>-0.015625</td>\n",
       "      <td>-0.250000</td>\n",
       "      <td>0.398058</td>\n",
       "      <td>...</td>\n",
       "      <td>0.480769</td>\n",
       "      <td>0.471264</td>\n",
       "      <td>-0.033333</td>\n",
       "      <td>-0.169231</td>\n",
       "      <td>0.524752</td>\n",
       "      <td>0.515789</td>\n",
       "      <td>-0.015625</td>\n",
       "      <td>-0.281250</td>\n",
       "      <td>0.495146</td>\n",
       "      <td>0.410526</td>\n",
       "    </tr>\n",
       "    <tr>\n",
       "      <th>4</th>\n",
       "      <td>-0.031250</td>\n",
       "      <td>0.381818</td>\n",
       "      <td>0.357143</td>\n",
       "      <td>-0.024793</td>\n",
       "      <td>0.000000</td>\n",
       "      <td>0.381818</td>\n",
       "      <td>0.431579</td>\n",
       "      <td>-0.015625</td>\n",
       "      <td>-0.031250</td>\n",
       "      <td>0.553398</td>\n",
       "      <td>...</td>\n",
       "      <td>0.480769</td>\n",
       "      <td>0.471264</td>\n",
       "      <td>-0.033333</td>\n",
       "      <td>-0.046154</td>\n",
       "      <td>0.623762</td>\n",
       "      <td>0.515789</td>\n",
       "      <td>0.046875</td>\n",
       "      <td>0.062500</td>\n",
       "      <td>0.592233</td>\n",
       "      <td>0.410526</td>\n",
       "    </tr>\n",
       "    <tr>\n",
       "      <th>...</th>\n",
       "      <td>...</td>\n",
       "      <td>...</td>\n",
       "      <td>...</td>\n",
       "      <td>...</td>\n",
       "      <td>...</td>\n",
       "      <td>...</td>\n",
       "      <td>...</td>\n",
       "      <td>...</td>\n",
       "      <td>...</td>\n",
       "      <td>...</td>\n",
       "      <td>...</td>\n",
       "      <td>...</td>\n",
       "      <td>...</td>\n",
       "      <td>...</td>\n",
       "      <td>...</td>\n",
       "      <td>...</td>\n",
       "      <td>...</td>\n",
       "      <td>...</td>\n",
       "      <td>...</td>\n",
       "      <td>...</td>\n",
       "      <td>...</td>\n",
       "    </tr>\n",
       "    <tr>\n",
       "      <th>8036</th>\n",
       "      <td>0.088958</td>\n",
       "      <td>0.016323</td>\n",
       "      <td>-0.213069</td>\n",
       "      <td>-0.376970</td>\n",
       "      <td>0.117490</td>\n",
       "      <td>0.074181</td>\n",
       "      <td>-0.182175</td>\n",
       "      <td>-0.286841</td>\n",
       "      <td>0.213958</td>\n",
       "      <td>0.240733</td>\n",
       "      <td>...</td>\n",
       "      <td>-0.120300</td>\n",
       "      <td>-0.329808</td>\n",
       "      <td>-0.370927</td>\n",
       "      <td>-0.015385</td>\n",
       "      <td>0.135798</td>\n",
       "      <td>-0.234572</td>\n",
       "      <td>-0.281250</td>\n",
       "      <td>0.093750</td>\n",
       "      <td>0.058469</td>\n",
       "      <td>-0.158971</td>\n",
       "    </tr>\n",
       "    <tr>\n",
       "      <th>8037</th>\n",
       "      <td>-0.243556</td>\n",
       "      <td>-0.092159</td>\n",
       "      <td>-0.477827</td>\n",
       "      <td>-0.536054</td>\n",
       "      <td>-0.094557</td>\n",
       "      <td>-0.092159</td>\n",
       "      <td>-0.411973</td>\n",
       "      <td>-0.498926</td>\n",
       "      <td>-0.122852</td>\n",
       "      <td>-0.027792</td>\n",
       "      <td>...</td>\n",
       "      <td>0.077584</td>\n",
       "      <td>-0.261208</td>\n",
       "      <td>-0.527032</td>\n",
       "      <td>-0.012212</td>\n",
       "      <td>0.188800</td>\n",
       "      <td>-0.260264</td>\n",
       "      <td>-0.405176</td>\n",
       "      <td>-0.032324</td>\n",
       "      <td>0.009709</td>\n",
       "      <td>-0.263158</td>\n",
       "    </tr>\n",
       "    <tr>\n",
       "      <th>8038</th>\n",
       "      <td>-0.136975</td>\n",
       "      <td>-0.068480</td>\n",
       "      <td>-0.466067</td>\n",
       "      <td>-0.504132</td>\n",
       "      <td>-0.006181</td>\n",
       "      <td>-0.054545</td>\n",
       "      <td>-0.233154</td>\n",
       "      <td>-0.409244</td>\n",
       "      <td>-0.061188</td>\n",
       "      <td>-0.067961</td>\n",
       "      <td>...</td>\n",
       "      <td>-0.168585</td>\n",
       "      <td>-0.566658</td>\n",
       "      <td>-0.532634</td>\n",
       "      <td>-0.279224</td>\n",
       "      <td>-0.223097</td>\n",
       "      <td>-0.539991</td>\n",
       "      <td>-0.534244</td>\n",
       "      <td>-0.181512</td>\n",
       "      <td>-0.053079</td>\n",
       "      <td>-0.416328</td>\n",
       "    </tr>\n",
       "    <tr>\n",
       "      <th>8039</th>\n",
       "      <td>-0.163077</td>\n",
       "      <td>-0.090909</td>\n",
       "      <td>-0.476190</td>\n",
       "      <td>-0.517050</td>\n",
       "      <td>-0.096774</td>\n",
       "      <td>-0.090909</td>\n",
       "      <td>-0.359223</td>\n",
       "      <td>-0.437500</td>\n",
       "      <td>-0.250000</td>\n",
       "      <td>-0.029126</td>\n",
       "      <td>...</td>\n",
       "      <td>0.130414</td>\n",
       "      <td>-0.292378</td>\n",
       "      <td>-0.450000</td>\n",
       "      <td>-0.052876</td>\n",
       "      <td>0.029703</td>\n",
       "      <td>-0.288810</td>\n",
       "      <td>-0.406250</td>\n",
       "      <td>-0.031250</td>\n",
       "      <td>0.087379</td>\n",
       "      <td>-0.263158</td>\n",
       "    </tr>\n",
       "    <tr>\n",
       "      <th>8040</th>\n",
       "      <td>-0.166118</td>\n",
       "      <td>-0.164594</td>\n",
       "      <td>-0.556392</td>\n",
       "      <td>-0.647674</td>\n",
       "      <td>-0.169776</td>\n",
       "      <td>-0.150238</td>\n",
       "      <td>-0.585595</td>\n",
       "      <td>-0.604441</td>\n",
       "      <td>-0.166118</td>\n",
       "      <td>-0.067961</td>\n",
       "      <td>...</td>\n",
       "      <td>0.056679</td>\n",
       "      <td>-0.333333</td>\n",
       "      <td>-0.577192</td>\n",
       "      <td>-0.138462</td>\n",
       "      <td>0.002605</td>\n",
       "      <td>-0.268696</td>\n",
       "      <td>-0.505757</td>\n",
       "      <td>-0.126647</td>\n",
       "      <td>-0.070008</td>\n",
       "      <td>-0.326316</td>\n",
       "    </tr>\n",
       "  </tbody>\n",
       "</table>\n",
       "<p>8041 rows × 35 columns</p>\n",
       "</div>"
      ],
      "text/plain": [
       "      -3.125000000000000000e-02  2.363639999999999908e-01  \\\n",
       "0                     -0.031250                  0.309091   \n",
       "1                     -0.031250                  0.381818   \n",
       "2                     -0.031250                  0.381818   \n",
       "3                     -0.031250                  0.381818   \n",
       "4                     -0.031250                  0.381818   \n",
       "...                         ...                       ...   \n",
       "8036                   0.088958                  0.016323   \n",
       "8037                  -0.243556                 -0.092159   \n",
       "8038                  -0.136975                 -0.068480   \n",
       "8039                  -0.163077                 -0.090909   \n",
       "8040                  -0.166118                 -0.164594   \n",
       "\n",
       "      2.380950000000000011e-01  -9.090910000000000657e-02  \\\n",
       "0                     0.380952                   0.074380   \n",
       "1                     0.261905                  -0.107438   \n",
       "2                     0.285714                  -0.123967   \n",
       "3                     0.357143                  -0.024793   \n",
       "4                     0.357143                  -0.024793   \n",
       "...                        ...                        ...   \n",
       "8036                 -0.213069                  -0.376970   \n",
       "8037                 -0.477827                  -0.536054   \n",
       "8038                 -0.466067                  -0.504132   \n",
       "8039                 -0.476190                  -0.517050   \n",
       "8040                 -0.556392                  -0.647674   \n",
       "\n",
       "      0.000000000000000000e+00  3.818179999999999907e-01  \\\n",
       "0                     0.129032                  0.472727   \n",
       "1                     0.000000                  0.527273   \n",
       "2                    -0.129032                  0.309091   \n",
       "3                    -0.096774                  0.454545   \n",
       "4                     0.000000                  0.381818   \n",
       "...                        ...                       ...   \n",
       "8036                  0.117490                  0.074181   \n",
       "8037                 -0.094557                 -0.092159   \n",
       "8038                 -0.006181                 -0.054545   \n",
       "8039                 -0.096774                 -0.090909   \n",
       "8040                 -0.169776                 -0.150238   \n",
       "\n",
       "      3.263159999999999950e-01  -1.562500000000000000e-02  \\\n",
       "0                     0.557895                   0.078125   \n",
       "1                     0.326316                   0.046875   \n",
       "2                     0.073684                  -0.156250   \n",
       "3                     0.431579                  -0.015625   \n",
       "4                     0.431579                  -0.015625   \n",
       "...                        ...                        ...   \n",
       "8036                 -0.182175                  -0.286841   \n",
       "8037                 -0.411973                  -0.498926   \n",
       "8038                 -0.233154                  -0.409244   \n",
       "8039                 -0.359223                  -0.437500   \n",
       "8040                 -0.585595                  -0.604441   \n",
       "\n",
       "      -1.250000000000000000e-01  5.533979999999999455e-01  ...  \\\n",
       "0                     -0.031250                  0.398058  ...   \n",
       "1                     -0.031250                  0.631068  ...   \n",
       "2                      0.093750                  0.398058  ...   \n",
       "3                     -0.250000                  0.398058  ...   \n",
       "4                     -0.031250                  0.553398  ...   \n",
       "...                         ...                       ...  ...   \n",
       "8036                   0.213958                  0.240733  ...   \n",
       "8037                  -0.122852                 -0.027792  ...   \n",
       "8038                  -0.061188                 -0.067961  ...   \n",
       "8039                  -0.250000                 -0.029126  ...   \n",
       "8040                  -0.166118                 -0.067961  ...   \n",
       "\n",
       "      5.769229999999999636e-01  4.712640000000000162e-01  \\\n",
       "0                     0.519231                  0.425287   \n",
       "1                     0.384615                  0.103448   \n",
       "2                     0.519231                  0.425287   \n",
       "3                     0.480769                  0.471264   \n",
       "4                     0.480769                  0.471264   \n",
       "...                        ...                       ...   \n",
       "8036                 -0.120300                 -0.329808   \n",
       "8037                  0.077584                 -0.261208   \n",
       "8038                 -0.168585                 -0.566658   \n",
       "8039                  0.130414                 -0.292378   \n",
       "8040                  0.056679                 -0.333333   \n",
       "\n",
       "      -3.333330000000000320e-02  -4.615380000000000177e-02  \\\n",
       "0                      0.000000                   0.138462   \n",
       "1                     -0.250000                  -0.138462   \n",
       "2                     -0.050000                  -0.107692   \n",
       "3                     -0.033333                  -0.169231   \n",
       "4                     -0.033333                  -0.046154   \n",
       "...                         ...                        ...   \n",
       "8036                  -0.370927                  -0.015385   \n",
       "8037                  -0.527032                  -0.012212   \n",
       "8038                  -0.532634                  -0.279224   \n",
       "8039                  -0.450000                  -0.052876   \n",
       "8040                  -0.577192                  -0.138462   \n",
       "\n",
       "      5.247519999999999962e-01  4.105260000000000020e-01  \\\n",
       "0                     0.663366                  0.368421   \n",
       "1                     0.425743                  0.263158   \n",
       "2                     0.485149                  0.368421   \n",
       "3                     0.524752                  0.515789   \n",
       "4                     0.623762                  0.515789   \n",
       "...                        ...                       ...   \n",
       "8036                  0.135798                 -0.234572   \n",
       "8037                  0.188800                 -0.260264   \n",
       "8038                 -0.223097                 -0.539991   \n",
       "8039                  0.029703                 -0.288810   \n",
       "8040                  0.002605                 -0.268696   \n",
       "\n",
       "      -1.562500000000000000e-02.2  -1.875000000000000000e-01.1  \\\n",
       "0                        0.015625                     0.125000   \n",
       "1                       -0.109375                    -0.031250   \n",
       "2                       -0.031250                    -0.250000   \n",
       "3                       -0.015625                    -0.281250   \n",
       "4                        0.046875                     0.062500   \n",
       "...                           ...                          ...   \n",
       "8036                    -0.281250                     0.093750   \n",
       "8037                    -0.405176                    -0.032324   \n",
       "8038                    -0.534244                    -0.181512   \n",
       "8039                    -0.406250                    -0.031250   \n",
       "8040                    -0.505757                    -0.126647   \n",
       "\n",
       "      4.951459999999999750e-01  5.157890000000000530e-01  \n",
       "0                     0.533981                  0.368421  \n",
       "1                     0.650485                  0.452632  \n",
       "2                     0.203883                  0.094737  \n",
       "3                     0.495146                  0.410526  \n",
       "4                     0.592233                  0.410526  \n",
       "...                        ...                       ...  \n",
       "8036                  0.058469                 -0.158971  \n",
       "8037                  0.009709                 -0.263158  \n",
       "8038                 -0.053079                 -0.416328  \n",
       "8039                  0.087379                 -0.263158  \n",
       "8040                 -0.070008                 -0.326316  \n",
       "\n",
       "[8041 rows x 35 columns]"
      ]
     },
     "execution_count": 3,
     "metadata": {},
     "output_type": "execute_result"
    }
   ],
   "source": [
    "dataSet=pd.read_csv(\"PCA_practice_dataset.csv\")\n",
    "dataSet"
   ]
  },
  {
   "cell_type": "code",
   "execution_count": 4,
   "metadata": {},
   "outputs": [
    {
     "data": {
      "text/plain": [
       "(8041, 35)"
      ]
     },
     "execution_count": 4,
     "metadata": {},
     "output_type": "execute_result"
    }
   ],
   "source": [
    "dataSet.shape"
   ]
  },
  {
   "cell_type": "markdown",
   "metadata": {},
   "source": [
    "# standardizing"
   ]
  },
  {
   "cell_type": "code",
   "execution_count": 5,
   "metadata": {},
   "outputs": [
    {
     "name": "stdout",
     "output_type": "stream",
     "text": [
      "[[ 3.02372432e-01  8.40402388e-01  8.52608891e-01 ...  7.01315837e-01\n",
      "   1.15019573e+00  9.22121443e-01]\n",
      " [ 3.02372432e-01  9.97760483e-01  5.63968718e-01 ...  3.45874567e-01\n",
      "   1.38672222e+00  1.15411966e+00]\n",
      " [ 3.02372432e-01  9.97760483e-01  6.21695782e-01 ... -1.51743212e-01\n",
      "   4.80030604e-01  1.68131518e-01]\n",
      " ...\n",
      " [ 6.45577366e-02  2.34582329e-02 -1.20106493e+00 ...  4.05399464e-03\n",
      "  -4.16546608e-02 -1.23983401e+00]\n",
      " [ 5.84575998e-03 -2.50705953e-02 -1.22560909e+00 ...  3.45874567e-01\n",
      "   2.43503311e-01 -8.17855518e-01]\n",
      " [-9.94557719e-04 -1.84502342e-01 -1.42006725e+00 ...  1.28863519e-01\n",
      "  -7.60223364e-02 -9.91853490e-01]]\n"
     ]
    }
   ],
   "source": [
    "from sklearn.preprocessing import StandardScaler\n",
    "data_std=StandardScaler().fit_transform(dataSet)\n",
    "print(data_std)"
   ]
  },
  {
   "cell_type": "code",
   "execution_count": 6,
   "metadata": {},
   "outputs": [
    {
     "name": "stdout",
     "output_type": "stream",
     "text": [
      "(8041, 35)\n"
     ]
    }
   ],
   "source": [
    "print(data_std.shape)"
   ]
  },
  {
   "cell_type": "markdown",
   "metadata": {},
   "source": [
    "# 2. Reduce the dimensionality of the dataset using PCA. The threshold limits for the eigenvalues should be varied from 0.9 to 0.97 in steps of 0.01."
   ]
  },
  {
   "cell_type": "code",
   "execution_count": 15,
   "metadata": {},
   "outputs": [
    {
     "data": {
      "text/plain": [
       "array([[ 1.18345132e-01,  1.06325812e-01,  9.59949922e-02, ...,\n",
       "        -8.04106230e-03,  1.35500164e-02, -1.23544487e-03],\n",
       "       [ 1.06325812e-01,  2.68436401e-01,  6.03483380e-02, ...,\n",
       "         6.27754715e-02,  3.61061881e-02,  4.44049660e-02],\n",
       "       [ 9.59949922e-02,  6.03483380e-02,  2.06182705e-01, ...,\n",
       "         3.72410436e-04,  4.61852401e-02,  6.10585875e-02],\n",
       "       ...,\n",
       "       [-8.04106230e-03,  6.27754715e-02,  3.72410436e-04, ...,\n",
       "         3.61476921e-01,  2.93906330e-01,  3.29123295e-01],\n",
       "       [ 1.35500164e-02,  3.61061881e-02,  4.61852401e-02, ...,\n",
       "         2.93906330e-01,  3.11431227e-01,  3.41282540e-01],\n",
       "       [-1.23544487e-03,  4.44049660e-02,  6.10585875e-02, ...,\n",
       "         3.29123295e-01,  3.41282540e-01,  4.04193098e-01]])"
      ]
     },
     "execution_count": 15,
     "metadata": {},
     "output_type": "execute_result"
    }
   ],
   "source": [
    "cov_matrix = np.cov(data_std)\n",
    "cov_matrix"
   ]
  },
  {
   "cell_type": "code",
   "execution_count": 21,
   "metadata": {},
   "outputs": [],
   "source": [
    "from sklearn.decomposition import PCA\n",
    "pca=PCA()"
   ]
  },
  {
   "cell_type": "code",
   "execution_count": 16,
   "metadata": {},
   "outputs": [
    {
     "name": "stdout",
     "output_type": "stream",
     "text": [
      "Eigen values for this dataset is [ 4.01980700e+03+0.00000000e+00j  3.03104185e+02+0.00000000e+00j\n",
      "  1.78914681e+02+0.00000000e+00j ... -3.38516826e-18+0.00000000e+00j\n",
      " -3.29761889e-17+3.94677929e-18j -3.29761889e-17-3.94677929e-18j]\n",
      "Corresponding eigen-vectors are [[ 6.17225849e-04+0.00000000e+00j -1.59246012e-02+0.00000000e+00j\n",
      "   4.75999247e-03+0.00000000e+00j ... -4.97182370e-04+0.00000000e+00j\n",
      "   6.84022895e-04-2.05465404e-05j  6.84022895e-04+2.05465404e-05j]\n",
      " [ 1.81391900e-03+0.00000000e+00j -2.08460780e-02+0.00000000e+00j\n",
      "   1.06270958e-02+0.00000000e+00j ... -1.74801426e-05+0.00000000e+00j\n",
      "   2.75039561e-05+9.40899062e-07j  2.75039561e-05-9.40899062e-07j]\n",
      " [ 1.77446616e-03+0.00000000e+00j -1.92739183e-02+0.00000000e+00j\n",
      "  -7.46944892e-03+0.00000000e+00j ...  4.51477358e-06+0.00000000e+00j\n",
      "   1.10813354e-05-2.08916082e-06j  1.10813354e-05+2.08916082e-06j]\n",
      " ...\n",
      " [ 8.52291830e-03+0.00000000e+00j  4.81933889e-03+0.00000000e+00j\n",
      "   2.82102464e-03+0.00000000e+00j ... -6.16394852e-03+0.00000000e+00j\n",
      "   7.75215271e-03-1.52410530e-03j  7.75215271e-03+1.52410530e-03j]\n",
      " [ 8.21575474e-03+0.00000000e+00j  2.61400981e-03+0.00000000e+00j\n",
      "   2.72347538e-04+0.00000000e+00j ... -4.91892950e-03+0.00000000e+00j\n",
      "  -6.48610523e-03-7.75334530e-04j -6.48610523e-03+7.75334530e-04j]\n",
      " [ 9.61876786e-03+0.00000000e+00j  2.98022783e-03+0.00000000e+00j\n",
      "  -4.60269205e-03+0.00000000e+00j ... -8.48304141e-03+0.00000000e+00j\n",
      "  -1.54451399e-04-2.31196757e-04j -1.54451399e-04+2.31196757e-04j]]\n"
     ]
    }
   ],
   "source": [
    "eig_val, eig_vec = np.linalg.eig(cov_matrix) ## Find the eigen vectors and the corresponding eigen values of the matrix\n",
    "\n",
    "print(\"Eigen values for this dataset is {}\".format(eig_val)) ## Print these eigen values \n",
    "print(\"Corresponding eigen-vectors are {}\".format(eig_vec))"
   ]
  },
  {
   "cell_type": "code",
   "execution_count": 58,
   "metadata": {},
   "outputs": [
    {
     "name": "stdout",
     "output_type": "stream",
     "text": [
      "components required for 90% threshold are:2\n",
      "components required for 91% threshold are:2\n",
      "components required for 92% threshold are:3\n",
      "components required for 93% threshold are:3\n",
      "components required for 94% threshold are:4\n",
      "components required for 95% threshold are:4\n",
      "components required for 96% threshold are:5\n",
      "components required for 97% threshold are:6\n"
     ]
    }
   ],
   "source": [
    "pca=PCA()\n",
    "data_std1=pca.fit_transform(data_std)\n",
    "c_v=np.cumsum(pca.explained_variance_ratio_)*100\n",
    "thresholds=[i for i in range(90,97+1,1)]\n",
    "components=[np.argmax(c_v>threshold)for threshold in thresholds]\n",
    "for component,threshold in zip(components,thresholds):\n",
    "    print(\"components required for {}% threshold are:{}\".format(threshold,component))"
   ]
  },
  {
   "cell_type": "code",
   "execution_count": 60,
   "metadata": {},
   "outputs": [
    {
     "data": {
      "text/plain": [
       "PCA(n_components=7)"
      ]
     },
     "execution_count": 60,
     "metadata": {},
     "output_type": "execute_result"
    }
   ],
   "source": [
    "pca1=PCA(n_components=7)\n",
    "pca1.fit(data_std)"
   ]
  },
  {
   "cell_type": "code",
   "execution_count": 54,
   "metadata": {},
   "outputs": [
    {
     "data": {
      "text/plain": [
       "(8041, 35)"
      ]
     },
     "execution_count": 54,
     "metadata": {},
     "output_type": "execute_result"
    }
   ],
   "source": [
    "data_std.shape"
   ]
  },
  {
   "cell_type": "code",
   "execution_count": 61,
   "metadata": {},
   "outputs": [
    {
     "data": {
      "text/plain": [
       "(8041, 7)"
      ]
     },
     "execution_count": 61,
     "metadata": {},
     "output_type": "execute_result"
    }
   ],
   "source": [
    "data_pca=pca1.transform(data_std)\n",
    "data_pca.shape"
   ]
  },
  {
   "cell_type": "markdown",
   "metadata": {},
   "source": [
    "# 3. Obtain the Scree plot for each of these cases. Find the number of principal components retained due to the thresholding"
   ]
  },
  {
   "cell_type": "code",
   "execution_count": 36,
   "metadata": {},
   "outputs": [],
   "source": [
    "eigen_vec_ls = []\n",
    "for i in range(eig_vec.shape[1]):\n",
    "    eig1 = data_std.T@eig_vec[:,i]\n",
    "    eig1 = eig1/eig_val[i]\n",
    "    eigen_vec_ls.append(np.ravel(eig1))\n",
    "#print(eigen_vec_ls)"
   ]
  },
  {
   "cell_type": "code",
   "execution_count": 46,
   "metadata": {},
   "outputs": [
    {
     "name": "stdout",
     "output_type": "stream",
     "text": [
      "Number of components is 7\n"
     ]
    }
   ],
   "source": [
    "sort_idx = np.argsort(eig_val) ## indices for eigenvalues which are in ascending order\n",
    "sort_idx = sort_idx[::-1]\n",
    "\n",
    "eig_val_sum = np.sum(eig_val)\n",
    "temp_sum = 0\n",
    "principal_eig_vec = []\n",
    "principal_eig_val = []\n",
    "i=0\n",
    "while(temp_sum<0.95*eig_val_sum):\n",
    "    principal_eig_vec.append(eigen_vec_ls[sort_idx[i]])\n",
    "    principal_eig_val.append(eig_val[sort_idx[i]])\n",
    "    temp_sum += eig_val[sort_idx[i]]\n",
    "    i += 1\n",
    "print(\"Number of components is {}\".format(i))"
   ]
  },
  {
   "cell_type": "code",
   "execution_count": 44,
   "metadata": {},
   "outputs": [
    {
     "name": "stdout",
     "output_type": "stream",
     "text": [
      "performing d.r.to retain 90% threshold\n",
      "after performing d.r. ,new shape of the dataset is: (8041, 2)\n",
      "\n",
      "\n",
      "performing d.r.to retain 91% threshold\n",
      "after performing d.r. ,new shape of the dataset is: (8041, 2)\n",
      "\n",
      "\n",
      "performing d.r.to retain 92% threshold\n",
      "after performing d.r. ,new shape of the dataset is: (8041, 3)\n",
      "\n",
      "\n",
      "performing d.r.to retain 93% threshold\n",
      "after performing d.r. ,new shape of the dataset is: (8041, 3)\n",
      "\n",
      "\n",
      "performing d.r.to retain 94% threshold\n",
      "after performing d.r. ,new shape of the dataset is: (8041, 4)\n",
      "\n",
      "\n",
      "performing d.r.to retain 95% threshold\n",
      "after performing d.r. ,new shape of the dataset is: (8041, 4)\n",
      "\n",
      "\n",
      "performing d.r.to retain 96% threshold\n",
      "after performing d.r. ,new shape of the dataset is: (8041, 5)\n",
      "\n",
      "\n",
      "performing d.r.to retain 97% threshold\n",
      "after performing d.r. ,new shape of the dataset is: (8041, 6)\n",
      "\n",
      "\n"
     ]
    }
   ],
   "source": [
    "data_orig=dataSet\n",
    "for component,var in zip(components,thresholds):\n",
    "    pca=PCA(n_components=component)\n",
    "    data_transformed=pca.fit_transform(data_orig)\n",
    "    print('performing d.r.to retain {}% threshold'.format(var))\n",
    "    print('after performing d.r. ,new shape of the dataset is:',data_transformed.shape)\n",
    "    print('\\n')"
   ]
  },
  {
   "cell_type": "code",
   "execution_count": 49,
   "metadata": {},
   "outputs": [
    {
     "data": {
      "image/png": "[encoded data removed]",
      "text/plain": [
       "<Figure size 432x288 with 1 Axes>"
      ]
     },
     "metadata": {
      "needs_background": "light"
     },
     "output_type": "display_data"
    }
   ],
   "source": [
    "import matplotlib.pyplot as plt\n",
    "plt.plot(components,range(90,97+1,1),'ro-',linewidth=1, color='blue')\n",
    "plt.title('Scree Plot')\n",
    "plt.xlabel('principal component')\n",
    "plt.ylabel('eigenvalue : Threshold in %')\n",
    "plt.show()"
   ]
  },
  {
   "cell_type": "code",
   "execution_count": null,
   "metadata": {},
   "outputs": [],
   "source": []
  }
 ],
 "metadata": {
  "kernelspec": {
   "display_name": "Python 3",
   "language": "python",
   "name": "python3"
  },
  "language_info": {
   "codemirror_mode": {
    "name": "ipython",
    "version": 3
   },
   "file_extension": ".py",
   "mimetype": "text/x-python",
   "name": "python",
   "nbconvert_exporter": "python",
   "pygments_lexer": "ipython3",
   "version": "3.8.3"
  }
 },
 "nbformat": 4,
 "nbformat_minor": 4
}
